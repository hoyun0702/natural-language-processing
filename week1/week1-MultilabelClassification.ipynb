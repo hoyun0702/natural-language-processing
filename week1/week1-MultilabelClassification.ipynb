{
 "cells": [
  {
   "cell_type": "markdown",
   "metadata": {},
   "source": [
    "# Predict tags on StackOverflow with linear models"
   ]
  },
  {
   "cell_type": "markdown",
   "metadata": {},
   "source": [
    "In this assignment you will learn how to predict tags for posts from [StackOverflow](https://stackoverflow.com). To solve this task you will use multilabel classification approach.\n",
    "\n",
    "### Libraries\n",
    "\n",
    "In this task you will need the following libraries:\n",
    "- [Numpy](http://www.numpy.org) — a package for scientific computing.\n",
    "- [Pandas](https://pandas.pydata.org) — a library providing high-performance, easy-to-use data structures and data analysis tools for the Python\n",
    "- [scikit-learn](http://scikit-learn.org/stable/index.html) — a tool for data mining and data analysis.\n",
    "- [NLTK](http://www.nltk.org) — a platform to work with natural language."
   ]
  },
  {
   "cell_type": "markdown",
   "metadata": {},
   "source": [
    "### Data\n",
    "\n",
    "The following cell will download all data required for this assignment into the folder `week1/data`."
   ]
  },
  {
   "cell_type": "code",
   "execution_count": 1,
   "metadata": {},
   "outputs": [
    {
     "data": {
      "application/vnd.jupyter.widget-view+json": {
       "model_id": "fc605f7b2aa64cb29d984078dfcf7164",
       "version_major": 2,
       "version_minor": 0
      },
      "text/plain": [
       "HBox(children=(IntProgress(value=0, max=7196138), HTML(value='')))"
      ]
     },
     "metadata": {},
     "output_type": "display_data"
    },
    {
     "name": "stdout",
     "output_type": "stream",
     "text": [
      "\n"
     ]
    },
    {
     "data": {
      "application/vnd.jupyter.widget-view+json": {
       "model_id": "3ee14235b26048b2837ca22ecc024fe3",
       "version_major": 2,
       "version_minor": 0
      },
      "text/plain": [
       "HBox(children=(IntProgress(value=0, max=2166270), HTML(value='')))"
      ]
     },
     "metadata": {},
     "output_type": "display_data"
    },
    {
     "name": "stdout",
     "output_type": "stream",
     "text": [
      "\n"
     ]
    },
    {
     "data": {
      "application/vnd.jupyter.widget-view+json": {
       "model_id": "770f75005a6d4e62a13b266bcbd742e3",
       "version_major": 2,
       "version_minor": 0
      },
      "text/plain": [
       "HBox(children=(IntProgress(value=0, max=1041379), HTML(value='')))"
      ]
     },
     "metadata": {},
     "output_type": "display_data"
    },
    {
     "name": "stdout",
     "output_type": "stream",
     "text": [
      "\n"
     ]
    },
    {
     "data": {
      "application/vnd.jupyter.widget-view+json": {
       "model_id": "58ef5bfc4a4a47a9932202e69f0c4319",
       "version_major": 2,
       "version_minor": 0
      },
      "text/plain": [
       "HBox(children=(IntProgress(value=0, max=5091), HTML(value='')))"
      ]
     },
     "metadata": {},
     "output_type": "display_data"
    },
    {
     "name": "stdout",
     "output_type": "stream",
     "text": [
      "\n"
     ]
    }
   ],
   "source": [
    "import sys\n",
    "sys.path.append(\"..\")\n",
    "from common.download_utils import download_week1_resources\n",
    "\n",
    "download_week1_resources()"
   ]
  },
  {
   "cell_type": "markdown",
   "metadata": {},
   "source": [
    "### Grading\n",
    "We will create a grader instance below and use it to collect your answers. Note that these outputs will be stored locally inside grader and will be uploaded to platform only after running submitting function in the last part of this assignment. If you want to make partial submission, you can run that cell any time you want."
   ]
  },
  {
   "cell_type": "code",
   "execution_count": 2,
   "metadata": {},
   "outputs": [],
   "source": [
    "from grader import Grader"
   ]
  },
  {
   "cell_type": "code",
   "execution_count": 3,
   "metadata": {},
   "outputs": [],
   "source": [
    "grader = Grader()"
   ]
  },
  {
   "cell_type": "markdown",
   "metadata": {},
   "source": [
    "### Text preprocessing"
   ]
  },
  {
   "cell_type": "markdown",
   "metadata": {},
   "source": [
    "For this and most of the following assignments you will need to use a list of stop words. It can be downloaded from *nltk*:"
   ]
  },
  {
   "cell_type": "code",
   "execution_count": 4,
   "metadata": {},
   "outputs": [
    {
     "name": "stdout",
     "output_type": "stream",
     "text": [
      "[nltk_data] Downloading package stopwords to\n",
      "[nltk_data]     C:\\Users\\user\\AppData\\Roaming\\nltk_data...\n",
      "[nltk_data]   Package stopwords is already up-to-date!\n"
     ]
    }
   ],
   "source": [
    "import nltk\n",
    "nltk.download('stopwords')\n",
    "from nltk.corpus import stopwords"
   ]
  },
  {
   "cell_type": "markdown",
   "metadata": {},
   "source": [
    "In this task you will deal with a dataset of post titles from StackOverflow. You are provided a split to 3 sets: *train*, *validation* and *test*. All corpora (except for *test*) contain titles of the posts and corresponding tags (100 tags are available). The *test* set is provided for Coursera's grading and doesn't contain answers. Upload the corpora using *pandas* and look at the data:"
   ]
  },
  {
   "cell_type": "code",
   "execution_count": 5,
   "metadata": {},
   "outputs": [],
   "source": [
    "from ast import literal_eval\n",
    "import pandas as pd\n",
    "import numpy as np"
   ]
  },
  {
   "cell_type": "code",
   "execution_count": 6,
   "metadata": {},
   "outputs": [],
   "source": [
    "def read_data(filename):\n",
    "    data = pd.read_csv(filename, sep='\\t')\n",
    "    data['tags'] = data['tags'].apply(literal_eval)\n",
    "    return data"
   ]
  },
  {
   "cell_type": "code",
   "execution_count": 7,
   "metadata": {},
   "outputs": [],
   "source": [
    "train = read_data('data/train.tsv')\n",
    "validation = read_data('data/validation.tsv')\n",
    "test = pd.read_csv('data/test.tsv', sep='\\t')"
   ]
  },
  {
   "cell_type": "code",
   "execution_count": 8,
   "metadata": {},
   "outputs": [
    {
     "data": {
      "text/html": [
       "<div>\n",
       "<style scoped>\n",
       "    .dataframe tbody tr th:only-of-type {\n",
       "        vertical-align: middle;\n",
       "    }\n",
       "\n",
       "    .dataframe tbody tr th {\n",
       "        vertical-align: top;\n",
       "    }\n",
       "\n",
       "    .dataframe thead th {\n",
       "        text-align: right;\n",
       "    }\n",
       "</style>\n",
       "<table border=\"1\" class=\"dataframe\">\n",
       "  <thead>\n",
       "    <tr style=\"text-align: right;\">\n",
       "      <th></th>\n",
       "      <th>title</th>\n",
       "      <th>tags</th>\n",
       "    </tr>\n",
       "  </thead>\n",
       "  <tbody>\n",
       "    <tr>\n",
       "      <th>0</th>\n",
       "      <td>How to draw a stacked dotplot in R?</td>\n",
       "      <td>[r]</td>\n",
       "    </tr>\n",
       "    <tr>\n",
       "      <th>1</th>\n",
       "      <td>mysql select all records where a datetime fiel...</td>\n",
       "      <td>[php, mysql]</td>\n",
       "    </tr>\n",
       "    <tr>\n",
       "      <th>2</th>\n",
       "      <td>How to terminate windows phone 8.1 app</td>\n",
       "      <td>[c#]</td>\n",
       "    </tr>\n",
       "    <tr>\n",
       "      <th>3</th>\n",
       "      <td>get current time in a specific country via jquery</td>\n",
       "      <td>[javascript, jquery]</td>\n",
       "    </tr>\n",
       "    <tr>\n",
       "      <th>4</th>\n",
       "      <td>Configuring Tomcat to Use SSL</td>\n",
       "      <td>[java]</td>\n",
       "    </tr>\n",
       "  </tbody>\n",
       "</table>\n",
       "</div>"
      ],
      "text/plain": [
       "                                               title                  tags\n",
       "0                How to draw a stacked dotplot in R?                   [r]\n",
       "1  mysql select all records where a datetime fiel...          [php, mysql]\n",
       "2             How to terminate windows phone 8.1 app                  [c#]\n",
       "3  get current time in a specific country via jquery  [javascript, jquery]\n",
       "4                      Configuring Tomcat to Use SSL                [java]"
      ]
     },
     "execution_count": 8,
     "metadata": {},
     "output_type": "execute_result"
    }
   ],
   "source": [
    "train.head()"
   ]
  },
  {
   "cell_type": "markdown",
   "metadata": {},
   "source": [
    "As you can see, *title* column contains titles of the posts and *tags* column contains the tags. It could be noticed that a number of tags for a post is not fixed and could be as many as necessary."
   ]
  },
  {
   "cell_type": "markdown",
   "metadata": {},
   "source": [
    "For a more comfortable usage, initialize *X_train*, *X_val*, *X_test*, *y_train*, *y_val*."
   ]
  },
  {
   "cell_type": "code",
   "execution_count": 9,
   "metadata": {},
   "outputs": [],
   "source": [
    "X_train, y_train = train['title'].values, train['tags'].values\n",
    "X_val, y_val = validation['title'].values, validation['tags'].values\n",
    "X_test = test['title'].values"
   ]
  },
  {
   "cell_type": "markdown",
   "metadata": {},
   "source": [
    "One of the most known difficulties when working with natural data is that it's unstructured. For example, if you use it \"as is\" and extract tokens just by splitting the titles by whitespaces, you will see that there are many \"weird\" tokens like *3.5?*, *\"Flip*, etc. To prevent the problems, it's usually useful to prepare the data somehow. In this task you'll write a function, which will be also used in the other assignments. \n",
    "\n",
    "**Task 1 (TextPrepare).** Implement the function *text_prepare* following the instructions. After that, run the function *test_test_prepare* to test it on tiny cases and submit it to Coursera."
   ]
  },
  {
   "cell_type": "code",
   "execution_count": 10,
   "metadata": {},
   "outputs": [],
   "source": [
    "import re"
   ]
  },
  {
   "cell_type": "code",
   "execution_count": 11,
   "metadata": {},
   "outputs": [],
   "source": [
    "REPLACE_BY_SPACE_RE = re.compile('[/(){}\\[\\]\\|@,;]')\n",
    "BAD_SYMBOLS_RE = re.compile('[^0-9a-z #+_]')\n",
    "STOPWORDS = set(stopwords.words('english'))\n",
    "\n",
    "def text_prepare(text):\n",
    "    \"\"\"\n",
    "        text: a string\n",
    "        \n",
    "        return: modified initial string\n",
    "    \"\"\"\n",
    "    text = text.lower()# lowercase text\n",
    "    text = re.sub(REPLACE_BY_SPACE_RE,\" \",text) # replace REPLACE_BY_SPACE_RE symbols by space in text\n",
    "    text = re.sub(BAD_SYMBOLS_RE,\"\",text)# delete symbols which are in BAD_SYMBOLS_RE from text\n",
    "    text = \" \".join([s for s in text.split(\" \") if s not in STOPWORDS])# delete stopwords from text\n",
    "    return text"
   ]
  },
  {
   "cell_type": "code",
   "execution_count": 12,
   "metadata": {},
   "outputs": [],
   "source": [
    "def test_text_prepare():\n",
    "    examples = [\"SQL Server - any equivalent of Excel's CHOOSE function?\",\n",
    "                \"How to free c++ memory vector<int> * arr?\"]\n",
    "    answers = [\"sql server equivalent excels choose function\", \n",
    "               \"free c++ memory vectorint arr\"]\n",
    "    for ex, ans in zip(examples, answers):\n",
    "        if text_prepare(ex) != ans:\n",
    "            return \"Wrong answer for the case: '%s'\" % ex\n",
    "    return 'Basic tests are passed.'"
   ]
  },
  {
   "cell_type": "code",
   "execution_count": 13,
   "metadata": {},
   "outputs": [
    {
     "name": "stdout",
     "output_type": "stream",
     "text": [
      "Wrong answer for the case: 'SQL Server - any equivalent of Excel's CHOOSE function?'\n"
     ]
    }
   ],
   "source": [
    "print(test_text_prepare())"
   ]
  },
  {
   "cell_type": "markdown",
   "metadata": {},
   "source": [
    "Run your implementation for questions from file *text_prepare_tests.tsv* to earn the points."
   ]
  },
  {
   "cell_type": "code",
   "execution_count": 14,
   "metadata": {},
   "outputs": [
    {
     "name": "stdout",
     "output_type": "stream",
     "text": [
      "Current answer for task TextPrepare is:\n",
      " sqlite php readonly\n",
      "creating multiple textboxes dynamically\n",
      " self  one prefer javascript\n",
      "save php da...\n"
     ]
    }
   ],
   "source": [
    "prepared_questions = []\n",
    "for line in open('data/text_prepare_tests.tsv', encoding='utf-8'):\n",
    "    line = text_prepare(line.strip())\n",
    "    prepared_questions.append(line)\n",
    "text_prepare_results = '\\n'.join(prepared_questions)\n",
    "\n",
    "grader.submit_tag('TextPrepare', text_prepare_results)"
   ]
  },
  {
   "cell_type": "markdown",
   "metadata": {},
   "source": [
    "Now we can preprocess the titles using function *text_prepare* and  making sure that the headers don't have bad symbols:"
   ]
  },
  {
   "cell_type": "code",
   "execution_count": 15,
   "metadata": {},
   "outputs": [],
   "source": [
    "X_train = [text_prepare(x) for x in X_train]\n",
    "X_val = [text_prepare(x) for x in X_val]\n",
    "X_test = [text_prepare(x) for x in X_test]"
   ]
  },
  {
   "cell_type": "code",
   "execution_count": 16,
   "metadata": {},
   "outputs": [
    {
     "data": {
      "text/plain": [
       "['draw stacked dotplot r',\n",
       " 'mysql select records datetime field less specified value',\n",
       " 'terminate windows phone 81 app']"
      ]
     },
     "execution_count": 16,
     "metadata": {},
     "output_type": "execute_result"
    }
   ],
   "source": [
    "X_train[:3]"
   ]
  },
  {
   "cell_type": "markdown",
   "metadata": {},
   "source": [
    "For each tag and for each word calculate how many times they occur in the train corpus. \n",
    "\n",
    "**Task 2 (WordsTagsCount).** Find 3 most popular tags and 3 most popular words in the train data and submit the results to earn the points."
   ]
  },
  {
   "cell_type": "code",
   "execution_count": 18,
   "metadata": {},
   "outputs": [],
   "source": [
    "# Dictionary of all tags from train corpus with their counts.\n",
    "tags_counts = {}\n",
    "# Dictionary of all words from train corpus with their counts.\n",
    "words_counts = {}\n",
    "\n",
    "######################################\n",
    "######### YOUR CODE HERE #############\n",
    "######################################\n",
    "\n",
    "for tags in y_train:\n",
    "    for tag in tags:\n",
    "        tags_counts[tag] = tags_counts.get(tag, 0) + 1\n",
    "for line in X_train:\n",
    "    words = line.split()\n",
    "    for word in words:\n",
    "        words_counts[word] = words_counts.get(word, 0) + 1"
   ]
  },
  {
   "cell_type": "markdown",
   "metadata": {},
   "source": [
    "We are assuming that *tags_counts* and *words_counts* are dictionaries like `{'some_word_or_tag': frequency}`. After applying the sorting procedure, results will be look like this: `[('most_popular_word_or_tag', frequency), ('less_popular_word_or_tag', frequency), ...]`. The grader gets the results in the following format (two comma-separated strings with line break):\n",
    "\n",
    "    tag1,tag2,tag3\n",
    "    word1,word2,word3\n",
    "\n",
    "Pay attention that in this assignment you should not submit frequencies or some additional information."
   ]
  },
  {
   "cell_type": "code",
   "execution_count": 19,
   "metadata": {},
   "outputs": [
    {
     "name": "stdout",
     "output_type": "stream",
     "text": [
      "Current answer for task WordsTagsCount is:\n",
      " javascript,c#,java\n",
      "using,php,java...\n"
     ]
    }
   ],
   "source": [
    "most_common_tags = sorted(tags_counts.items(), key=lambda x: x[1], reverse=True)[:3]\n",
    "most_common_words = sorted(words_counts.items(), key=lambda x: x[1], reverse=True)[:3]\n",
    "\n",
    "grader.submit_tag('WordsTagsCount', '%s\\n%s' % (','.join(tag for tag, _ in most_common_tags), \n",
    "                                                ','.join(word for word, _ in most_common_words)))"
   ]
  },
  {
   "cell_type": "markdown",
   "metadata": {},
   "source": [
    "### Transforming text to a vector\n",
    "\n",
    "Machine Learning algorithms work with numeric data and we cannot use the provided text data \"as is\". There are many ways to transform text data to numeric vectors. In this task you will try to use two of them.\n",
    "##機器學習算法使用數字數據，我們不能“按原樣”使用提供的文本數據。 有許多方法可以將文本數據轉換為數字向量。 在此任務中，您將嘗試使用其中兩個。\n",
    "\n",
    "#### Bag of words\n",
    "\n",
    "One of the well-known approaches is a *bag-of-words* representation. To create this transformation, follow the steps:\n",
    "1. Find *N* most popular words in train corpus and numerate them. Now we have a dictionary of the most popular words.\n",
    "2. For each title in the corpora create a zero vector with the dimension equals to *N*.\n",
    "3. For each text in the corpora iterate over words which are in the dictionary and increase by 1 the corresponding coordinate.\n",
    "\n",
    "Let's try to do it for a toy example. Imagine that we have *N* = 4 and the list of the most popular words is \n",
    "\n",
    "    ['hi', 'you', 'me', 'are']\n",
    "\n",
    "Then we need to numerate them, for example, like this: \n",
    "\n",
    "    {'hi': 0, 'you': 1, 'me': 2, 'are': 3}\n",
    "\n",
    "And we have the text, which we want to transform to the vector:\n",
    "\n",
    "    'hi how are you'\n",
    "\n",
    "For this text we create a corresponding zero vector \n",
    "\n",
    "    [0, 0, 0, 0]\n",
    "    \n",
    "And iterate over all words, and if the word is in the dictionary, we increase the value of the corresponding position in the vector:\n",
    "\n",
    "    'hi':  [1, 0, 0, 0]\n",
    "    'how': [1, 0, 0, 0] # word 'how' is not in our dictionary\n",
    "    'are': [1, 0, 0, 1]\n",
    "    'you': [1, 1, 0, 1]\n",
    "\n",
    "The resulting vector will be \n",
    "\n",
    "    [1, 1, 0, 1]\n",
    "   \n",
    "Implement the described encoding in the function *my_bag_of_words* with the size of the dictionary equals to 5000. To find the most common words use train data. You can test your code using the function *test_my_bag_of_words*."
   ]
  },
  {
   "cell_type": "code",
   "execution_count": 20,
   "metadata": {},
   "outputs": [],
   "source": [
    "DICT_SIZE = 5000\n",
    "INDEX_TO_WORDS = sorted(words_counts, key=words_counts.get, reverse=True)[:DICT_SIZE] ####### YOUR CODE HERE #######\n",
    "WORDS_TO_INDEX = {word:i for i, word in enumerate(INDEX_TO_WORDS)} ####### YOUR CODE HERE #######\n",
    "ALL_WORDS = WORDS_TO_INDEX.keys()\n",
    "\n",
    "def my_bag_of_words(text, words_to_index, dict_size):\n",
    "    \"\"\"\n",
    "        text: a string\n",
    "        dict_size: size of the dictionary\n",
    "        \n",
    "        return a vector which is a bag-of-words representation of 'text'\n",
    "    \"\"\"\n",
    "    result_vector = np.zeros(dict_size)\n",
    "    ######################################\n",
    "    ######### YOUR CODE HERE #############\n",
    "    ######################################\n",
    "    for word in text.split():\n",
    "        if word in words_to_index:\n",
    "            result_vector[words_to_index[word]] += 1\n",
    "    return result_vector"
   ]
  },
  {
   "cell_type": "code",
   "execution_count": 21,
   "metadata": {},
   "outputs": [],
   "source": [
    "def test_my_bag_of_words():\n",
    "    words_to_index = {'hi': 0, 'you': 1, 'me': 2, 'are': 3}\n",
    "    examples = ['hi how are you']\n",
    "    answers = [[1, 1, 0, 1]]\n",
    "    for ex, ans in zip(examples, answers):\n",
    "        if (my_bag_of_words(ex, words_to_index, 4) != ans).any():\n",
    "            return \"Wrong answer for the case: '%s'\" % ex\n",
    "    return 'Basic tests are passed.'"
   ]
  },
  {
   "cell_type": "code",
   "execution_count": 22,
   "metadata": {},
   "outputs": [
    {
     "name": "stdout",
     "output_type": "stream",
     "text": [
      "Basic tests are passed.\n"
     ]
    }
   ],
   "source": [
    "print(test_my_bag_of_words())"
   ]
  },
  {
   "cell_type": "markdown",
   "metadata": {},
   "source": [
    "Now apply the implemented function to all samples (this might take up to a minute):"
   ]
  },
  {
   "cell_type": "code",
   "execution_count": 23,
   "metadata": {},
   "outputs": [],
   "source": [
    "from scipy import sparse as sp_sparse"
   ]
  },
  {
   "cell_type": "code",
   "execution_count": 24,
   "metadata": {},
   "outputs": [
    {
     "name": "stdout",
     "output_type": "stream",
     "text": [
      "X_train shape  (100000, 5000)\n",
      "X_val shape  (30000, 5000)\n",
      "X_test shape  (20000, 5000)\n"
     ]
    }
   ],
   "source": [
    "X_train_mybag = sp_sparse.vstack([sp_sparse.csr_matrix(my_bag_of_words(text, WORDS_TO_INDEX, DICT_SIZE)) for text in X_train])\n",
    "X_val_mybag = sp_sparse.vstack([sp_sparse.csr_matrix(my_bag_of_words(text, WORDS_TO_INDEX, DICT_SIZE)) for text in X_val])\n",
    "X_test_mybag = sp_sparse.vstack([sp_sparse.csr_matrix(my_bag_of_words(text, WORDS_TO_INDEX, DICT_SIZE)) for text in X_test])\n",
    "print('X_train shape ', X_train_mybag.shape)\n",
    "print('X_val shape ', X_val_mybag.shape)\n",
    "print('X_test shape ', X_test_mybag.shape)"
   ]
  },
  {
   "cell_type": "markdown",
   "metadata": {},
   "source": [
    "As you might notice, we transform the data to sparse representation, to store the useful information efficiently. There are many [types](https://docs.scipy.org/doc/scipy/reference/sparse.html) of such representations, however sklearn algorithms can work only with [csr](https://docs.scipy.org/doc/scipy/reference/generated/scipy.sparse.csr_matrix.html#scipy.sparse.csr_matrix) matrix, so we will use this one."
   ]
  },
  {
   "cell_type": "markdown",
   "metadata": {},
   "source": [
    "**Task 3 (BagOfWords).** For the 11th row in *X_train_mybag* find how many non-zero elements it has. In this task the answer (variable *non_zero_elements_count*) should be a number, e.g. 20. ##對於X_train_mybag中的第11行，查找它有多少非零元素"
   ]
  },
  {
   "cell_type": "code",
   "execution_count": 25,
   "metadata": {},
   "outputs": [
    {
     "name": "stdout",
     "output_type": "stream",
     "text": [
      "Current answer for task BagOfWords is:\n",
      " 7...\n"
     ]
    }
   ],
   "source": [
    "row = X_train_mybag[10].toarray()[0]\n",
    "non_zero_elements_count = (row > 0).sum() ####### YOUR CODE HERE #######lem(row[row:] !=0)\n",
    "\n",
    "grader.submit_tag('BagOfWords', str(non_zero_elements_count))"
   ]
  },
  {
   "cell_type": "markdown",
   "metadata": {},
   "source": [
    "#### TF-IDF\n",
    "\n",
    "The second approach extends the bag-of-words framework by taking into account total frequencies of words in the corpora. It helps to penalize too frequent words and provide better features space. \n",
    "\n",
    "Implement function *tfidf_features* using class [TfidfVectorizer](http://scikit-learn.org/stable/modules/generated/sklearn.feature_extraction.text.TfidfVectorizer.html) from *scikit-learn*. Use *train* corpus to train a vectorizer. Don't forget to take a look into the arguments that you can pass to it. \n",
    "\n",
    "We suggest that you filter out too rare words (occur less than in 5 titles) and too frequent words (occur more than in 90% of the titles). Also, use bigrams along with unigrams in your vocabulary. ##我們建議您過濾掉過於罕見的單詞（少於5個標題）和過於頻繁的單詞（出現超過90％的標題）。此外，在你的詞彙中使用bigrams和unigrams。https://blog.csdn.net/du_qi/article/details/51564303"
   ]
  },
  {
   "cell_type": "code",
   "execution_count": 42,
   "metadata": {},
   "outputs": [],
   "source": [
    "from sklearn.feature_extraction.text import TfidfVectorizer"
   ]
  },
  {
   "cell_type": "code",
   "execution_count": 60,
   "metadata": {},
   "outputs": [],
   "source": [
    "def tfidf_features(X_train, X_val, X_test):\n",
    "    \"\"\"\n",
    "        X_train, X_val, X_test — samples        \n",
    "        return TF-IDF vectorized representation of each sample and vocabulary\n",
    "    \"\"\"\n",
    "    # Create TF-IDF vectorizer with a proper parameters choice\n",
    "    # Fit the vectorizer on the train set\n",
    "    # Transform the train, test, and val sets and return the result\n",
    "    \n",
    "    \n",
    "    tfidf_vectorizer = TfidfVectorizer(min_df=5, max_df=0.9, ngram_range=(1, 2), vocabulary=WORDS_TO_INDEX) \n",
    "    ####### YOUR CODE HERE #######token_pattern='(\\S+)'\n",
    "    \n",
    "    ######################################\n",
    "    ######### YOUR CODE HERE #############\n",
    "    ######################################\n",
    "    tfidf_vectorizer.fit(X_train)\n",
    "    X_train = tfidf_vectorizer.transform(X_train)\n",
    "    X_val = tfidf_vectorizer.transform(X_val)\n",
    "    X_test = tfidf_vectorizer.transform(X_test)\n",
    "    return X_train, X_val, X_test, tfidf_vectorizer.vocabulary_"
   ]
  },
  {
   "cell_type": "markdown",
   "metadata": {},
   "source": [
    "Once you have done text preprocessing, always have a look at the results. Be very careful at this step, because the performance of future models will drastically depend on it. \n",
    "\n",
    "In this case, check whether you have c++ or c# in your vocabulary, as they are obviously important tokens in our tags prediction task:"
   ]
  },
  {
   "cell_type": "code",
   "execution_count": 61,
   "metadata": {},
   "outputs": [],
   "source": [
    "X_train_tfidf, X_val_tfidf, X_test_tfidf, tfidf_vocab = tfidf_features(X_train, X_val, X_test)\n",
    "tfidf_reversed_vocab = {i:word for word,i in tfidf_vocab.items()}"
   ]
  },
  {
   "cell_type": "code",
   "execution_count": 67,
   "metadata": {},
   "outputs": [
    {
     "name": "stdout",
     "output_type": "stream",
     "text": [
      "7\n"
     ]
    }
   ],
   "source": [
    "print(tfidf_vocab.get('c#', -1))"
   ]
  },
  {
   "cell_type": "code",
   "execution_count": 65,
   "metadata": {},
   "outputs": [
    {
     "data": {
      "text/plain": [
       "{0: 'using',\n",
       " 1: 'php',\n",
       " 2: 'java',\n",
       " 3: 'file',\n",
       " 4: 'javascript',\n",
       " 5: 'error',\n",
       " 6: 'get',\n",
       " 7: 'c#',\n",
       " 8: 'python',\n",
       " 9: 'string',\n",
       " 10: 'array',\n",
       " 11: 'data',\n",
       " 12: 'jquery',\n",
       " 13: 'value',\n",
       " 14: 'function',\n",
       " 15: 'object',\n",
       " 16: 'class',\n",
       " 17: 'use',\n",
       " 18: 'c++',\n",
       " 19: 'list',\n",
       " 20: 'method',\n",
       " 21: 'multiple',\n",
       " 22: 'text',\n",
       " 23: 'image',\n",
       " 24: 'page',\n",
       " 25: 'rails',\n",
       " 26: 'form',\n",
       " 27: 'create',\n",
       " 28: 'html',\n",
       " 29: 'type',\n",
       " 30: 'code',\n",
       " 31: 'set',\n",
       " 32: 'working',\n",
       " 33: 'database',\n",
       " 34: 'add',\n",
       " 35: 'convert',\n",
       " 36: 'mysql',\n",
       " 37: 'json',\n",
       " 38: 'c',\n",
       " 39: 'server',\n",
       " 40: 'variable',\n",
       " 41: 'android',\n",
       " 42: 'values',\n",
       " 43: 'aspnet',\n",
       " 44: 'way',\n",
       " 45: 'application',\n",
       " 46: 'change',\n",
       " 47: 'button',\n",
       " 48: 'find',\n",
       " 49: 'django',\n",
       " 50: 'one',\n",
       " 51: 'without',\n",
       " 52: 'windows',\n",
       " 53: 'cannot',\n",
       " 54: 'table',\n",
       " 55: 'call',\n",
       " 56: 'files',\n",
       " 57: 'ajax',\n",
       " 58: 'check',\n",
       " 59: 'time',\n",
       " 60: 'name',\n",
       " 61: 'two',\n",
       " 62: 'ruby',\n",
       " 63: 'getting',\n",
       " 64: 'date',\n",
       " 65: 'web',\n",
       " 66: 'make',\n",
       " 67: 'input',\n",
       " 68: 'user',\n",
       " 69: 'xml',\n",
       " 70: 'app',\n",
       " 71: 'another',\n",
       " 72: 'element',\n",
       " 73: 'custom',\n",
       " 74: 'event',\n",
       " 75: 'api',\n",
       " 76: 'access',\n",
       " 77: 'url',\n",
       " 78: 'number',\n",
       " 79: 'spring',\n",
       " 80: 'view',\n",
       " 81: 'sql',\n",
       " 82: 'return',\n",
       " 83: 'mvc',\n",
       " 84: 'select',\n",
       " 85: 'google',\n",
       " 86: 'query',\n",
       " 87: 'inside',\n",
       " 88: 'exception',\n",
       " 89: 'display',\n",
       " 90: 'column',\n",
       " 91: 'read',\n",
       " 92: 'loop',\n",
       " 93: 'swift',\n",
       " 94: 'new',\n",
       " 95: 'work',\n",
       " 96: 'remove',\n",
       " 97: 'load',\n",
       " 98: 'r',\n",
       " 99: 'objects',\n",
       " 100: 'property',\n",
       " 101: 'line',\n",
       " 102: 'cant',\n",
       " 103: 'pass',\n",
       " 104: 'click',\n",
       " 105: 'framework',\n",
       " 106: 'update',\n",
       " 107: 'script',\n",
       " 108: 'vs',\n",
       " 109: 'post',\n",
       " 110: 'null',\n",
       " 111: '2',\n",
       " 112: 'creating',\n",
       " 113: 'net',\n",
       " 114: 'request',\n",
       " 115: 'different',\n",
       " 116: 'field',\n",
       " 117: 'key',\n",
       " 118: 'run',\n",
       " 119: 'row',\n",
       " 120: 'doesnt',\n",
       " 121: 'ios',\n",
       " 122: 'service',\n",
       " 123: 'linq',\n",
       " 124: 'div',\n",
       " 125: 'open',\n",
       " 126: 'window',\n",
       " 127: 'project',\n",
       " 128: 'wpf',\n",
       " 129: 'format',\n",
       " 130: 'best',\n",
       " 131: 'show',\n",
       " 132: 'controller',\n",
       " 133: 'variables',\n",
       " 134: 'undefined',\n",
       " 135: 'specific',\n",
       " 136: 'dynamically',\n",
       " 137: 'adding',\n",
       " 138: 'based',\n",
       " 139: 'angularjs',\n",
       " 140: 'control',\n",
       " 141: 'parameter',\n",
       " 142: 'send',\n",
       " 143: 'model',\n",
       " 144: '3',\n",
       " 145: 'library',\n",
       " 146: 'difference',\n",
       " 147: 'insert',\n",
       " 148: 'first',\n",
       " 149: 'passing',\n",
       " 150: 'vbnet',\n",
       " 151: 'js',\n",
       " 152: 'regex',\n",
       " 153: 'elements',\n",
       " 154: 'codeigniter',\n",
       " 155: 'eclipse',\n",
       " 156: 'within',\n",
       " 157: 'path',\n",
       " 158: 'dynamic',\n",
       " 159: 'visual',\n",
       " 160: 'memory',\n",
       " 161: 'connection',\n",
       " 162: 'possible',\n",
       " 163: 'id',\n",
       " 164: 'thread',\n",
       " 165: 'save',\n",
       " 166: 'default',\n",
       " 167: 'via',\n",
       " 168: '+',\n",
       " 169: 'running',\n",
       " 170: 'size',\n",
       " 171: 'program',\n",
       " 172: 'found',\n",
       " 173: 'content',\n",
       " 174: 'reference',\n",
       " 175: 'issue',\n",
       " 176: 'attribute',\n",
       " 177: 'write',\n",
       " 178: 'studio',\n",
       " 179: 'laravel',\n",
       " 180: 'search',\n",
       " 181: 'test',\n",
       " 182: 'excel',\n",
       " 183: 'static',\n",
       " 184: 'session',\n",
       " 185: 'output',\n",
       " 186: 'http',\n",
       " 187: 'character',\n",
       " 188: 'characters',\n",
       " 189: 'entity',\n",
       " 190: 'current',\n",
       " 191: 'problem',\n",
       " 192: 'client',\n",
       " 193: 'calling',\n",
       " 194: 'empty',\n",
       " 195: 'simple',\n",
       " 196: 'int',\n",
       " 197: 'css',\n",
       " 198: 'parameters',\n",
       " 199: 'upload',\n",
       " 200: 'command',\n",
       " 201: 'reading',\n",
       " 202: 'directory',\n",
       " 203: 'validation',\n",
       " 204: '1',\n",
       " 205: 'map',\n",
       " 206: 'hibernate',\n",
       " 207: 'selected',\n",
       " 208: 'textbox',\n",
       " 209: 'unable',\n",
       " 210: 'browser',\n",
       " 211: 'images',\n",
       " 212: 'item',\n",
       " 213: 'link',\n",
       " 214: 'index',\n",
       " 215: 'facebook',\n",
       " 216: 'expression',\n",
       " 217: 'store',\n",
       " 218: 'setting',\n",
       " 219: 'delete',\n",
       " 220: 'single',\n",
       " 221: 'template',\n",
       " 222: 'like',\n",
       " 223: 'statement',\n",
       " 224: 'strings',\n",
       " 225: 'rows',\n",
       " 226: 'failed',\n",
       " 227: 'header',\n",
       " 228: 'replace',\n",
       " 229: 'loading',\n",
       " 230: 'login',\n",
       " 231: 'box',\n",
       " 232: 'iphone',\n",
       " 233: '4',\n",
       " 234: 'numbers',\n",
       " 235: 'color',\n",
       " 236: 'nested',\n",
       " 237: 'returning',\n",
       " 238: 'print',\n",
       " 239: 'instance',\n",
       " 240: 'background',\n",
       " 241: 'pdf',\n",
       " 242: 'char',\n",
       " 243: 'parse',\n",
       " 244: 'could',\n",
       " 245: 'disable',\n",
       " 246: 'bootstrap',\n",
       " 247: 'message',\n",
       " 248: 'csv',\n",
       " 249: 'module',\n",
       " 250: 'tag',\n",
       " 251: 'chrome',\n",
       " 252: 'converting',\n",
       " 253: 'x',\n",
       " 254: 'parent',\n",
       " 255: 'invalid',\n",
       " 256: 'returns',\n",
       " 257: 'local',\n",
       " 258: 'methods',\n",
       " 259: 'need',\n",
       " 260: 'connect',\n",
       " 261: 'email',\n",
       " 262: 'changing',\n",
       " 263: 'trying',\n",
       " 264: 'response',\n",
       " 265: 'functions',\n",
       " 266: 'install',\n",
       " 267: 'redirect',\n",
       " 268: 'angular',\n",
       " 269: 'order',\n",
       " 270: 'dictionary',\n",
       " 271: 'arrays',\n",
       " 272: 'dropdown',\n",
       " 273: 'classes',\n",
       " 274: 'folder',\n",
       " 275: 'generate',\n",
       " 276: 'bar',\n",
       " 277: 'submit',\n",
       " 278: 'pandas',\n",
       " 279: 'process',\n",
       " 280: 'columns',\n",
       " 281: 'child',\n",
       " 282: 'source',\n",
       " 283: 'checkbox',\n",
       " 284: 'integer',\n",
       " 285: 'count',\n",
       " 286: 'sending',\n",
       " 287: 'parsing',\n",
       " 288: 'items',\n",
       " 289: 'start',\n",
       " 290: 'detect',\n",
       " 291: 'double',\n",
       " 292: 'datetime',\n",
       " 293: 'hide',\n",
       " 294: 'fields',\n",
       " 295: 'jsp',\n",
       " 296: 'console',\n",
       " 297: 'gridview',\n",
       " 298: 'pointer',\n",
       " 299: 'selenium',\n",
       " 300: 'linux',\n",
       " 301: 'constructor',\n",
       " 302: 'import',\n",
       " 303: 'random',\n",
       " 304: '7',\n",
       " 305: 'programmatically',\n",
       " 306: 'action',\n",
       " 307: 'collection',\n",
       " 308: 'instead',\n",
       " 309: 'version',\n",
       " 310: 'datagridview',\n",
       " 311: 'filter',\n",
       " 312: 'sort',\n",
       " 313: 'objectivec',\n",
       " 314: 'website',\n",
       " 315: 'generic',\n",
       " 316: 'last',\n",
       " 317: 'result',\n",
       " 318: 'build',\n",
       " 319: 'system',\n",
       " 320: 'download',\n",
       " 321: 'split',\n",
       " 322: 'properties',\n",
       " 323: 'interface',\n",
       " 324: 'iframe',\n",
       " 325: 'back',\n",
       " 326: 'nodejs',\n",
       " 327: 'cell',\n",
       " 328: 'binding',\n",
       " 329: 'arguments',\n",
       " 330: 'datatable',\n",
       " 331: '5',\n",
       " 332: 'syntax',\n",
       " 333: 'xcode',\n",
       " 334: 'scroll',\n",
       " 335: 'onclick',\n",
       " 336: 'binary',\n",
       " 337: 'external',\n",
       " 338: 'position',\n",
       " 339: 'execute',\n",
       " 340: '0',\n",
       " 341: 'socket',\n",
       " 342: 'rest',\n",
       " 343: 'called',\n",
       " 344: 'missing',\n",
       " 345: 'word',\n",
       " 346: 'maps',\n",
       " 347: 'implement',\n",
       " 348: 'typeerror',\n",
       " 349: 'byte',\n",
       " 350: 'whats',\n",
       " 351: 'extension',\n",
       " 352: 'copy',\n",
       " 353: 'refresh',\n",
       " 354: 'video',\n",
       " 355: 'menu',\n",
       " 356: 'match',\n",
       " 357: 'given',\n",
       " 358: 'argument',\n",
       " 359: 'node',\n",
       " 360: 'wordpress',\n",
       " 361: 'include',\n",
       " 362: 'retrieve',\n",
       " 363: 'regular',\n",
       " 364: 'accessing',\n",
       " 365: 'forms',\n",
       " 366: 'canvas',\n",
       " 367: 'showing',\n",
       " 368: 'document',\n",
       " 369: 'results',\n",
       " 370: 'ui',\n",
       " 371: 'runtime',\n",
       " 372: 'arraylist',\n",
       " 373: 'defined',\n",
       " 374: 'handle',\n",
       " 375: 'drop',\n",
       " 376: 'group',\n",
       " 377: 'apache',\n",
       " 378: 'errors',\n",
       " 379: 'large',\n",
       " 380: 'opencv',\n",
       " 381: 'height',\n",
       " 382: 'compare',\n",
       " 383: 'wcf',\n",
       " 384: 'address',\n",
       " 385: 'ie',\n",
       " 386: 'mobile',\n",
       " 387: 'many',\n",
       " 388: 'properly',\n",
       " 389: 'member',\n",
       " 390: 'equivalent',\n",
       " 391: '8',\n",
       " 392: 'screen',\n",
       " 393: 'exists',\n",
       " 394: 'global',\n",
       " 395: 'plugin',\n",
       " 396: 'password',\n",
       " 397: 'expected',\n",
       " 398: 'vector',\n",
       " 399: 'events',\n",
       " 400: 'jar',\n",
       " 401: 'maven',\n",
       " 402: 'length',\n",
       " 403: 'location',\n",
       " 404: 'writing',\n",
       " 405: 'types',\n",
       " 406: 'numpy',\n",
       " 407: 'servlet',\n",
       " 408: 'html5',\n",
       " 409: 'extract',\n",
       " 410: 'width',\n",
       " 411: 'stored',\n",
       " 412: 'close',\n",
       " 413: 'dataframe',\n",
       " 414: 'dialog',\n",
       " 415: 'certain',\n",
       " 416: 'help',\n",
       " 417: 'used',\n",
       " 418: 'range',\n",
       " 419: 'style',\n",
       " 420: 'names',\n",
       " 421: 'handling',\n",
       " 422: 'prevent',\n",
       " 423: 'automatically',\n",
       " 424: 'works',\n",
       " 425: 'resource',\n",
       " 426: 'magento',\n",
       " 427: 'every',\n",
       " 428: 'tomcat',\n",
       " 429: 'fails',\n",
       " 430: 'cast',\n",
       " 431: 'created',\n",
       " 432: 'pattern',\n",
       " 433: 'warning',\n",
       " 434: 'frame',\n",
       " 435: 'popup',\n",
       " 436: 'wrong',\n",
       " 437: 'contains',\n",
       " 438: 'validate',\n",
       " 439: 'displaying',\n",
       " 440: 'enum',\n",
       " 441: 'updating',\n",
       " 442: 'qt',\n",
       " 443: 'curl',\n",
       " 444: 'package',\n",
       " 445: 'stop',\n",
       " 446: 'must',\n",
       " 447: 'testing',\n",
       " 448: 'listview',\n",
       " 449: 'operator',\n",
       " 450: '2d',\n",
       " 451: 'space',\n",
       " 452: 'put',\n",
       " 453: 'authentication',\n",
       " 454: 'context',\n",
       " 455: 'conversion',\n",
       " 456: 'keys',\n",
       " 457: 'auto',\n",
       " 458: 'structure',\n",
       " 459: 'callback',\n",
       " 460: 'main',\n",
       " 461: 'saving',\n",
       " 462: 'token',\n",
       " 463: 'end',\n",
       " 464: 'exist',\n",
       " 465: 'long',\n",
       " 466: 'tab',\n",
       " 467: 'db',\n",
       " 468: 'problems',\n",
       " 469: 'foreach',\n",
       " 470: 'existing',\n",
       " 471: 'dll',\n",
       " 472: 'always',\n",
       " 473: 'block',\n",
       " 474: 'sorting',\n",
       " 475: 'grid',\n",
       " 476: 'finding',\n",
       " 477: 'matplotlib',\n",
       " 478: 'remote',\n",
       " 479: 'sqlite',\n",
       " 480: 'buttons',\n",
       " 481: 'option',\n",
       " 482: 'bind',\n",
       " 483: 'determine',\n",
       " 484: 'modal',\n",
       " 485: 'firefox',\n",
       " 486: 'stream',\n",
       " 487: 'performance',\n",
       " 488: 'tags',\n",
       " 489: 'label',\n",
       " 490: 'plot',\n",
       " 491: 'mac',\n",
       " 492: 'join',\n",
       " 493: 'decimal',\n",
       " 494: 'combobox',\n",
       " 495: 'uncaught',\n",
       " 496: 'phone',\n",
       " 497: 'radio',\n",
       " 498: 'example',\n",
       " 499: 'chart',\n",
       " 500: 'compile',\n",
       " 501: 'unexpected',\n",
       " 502: 'attributes',\n",
       " 503: 'dom',\n",
       " 504: 'checking',\n",
       " 505: 'correctly',\n",
       " 506: 'right',\n",
       " 507: 'tables',\n",
       " 508: 'point',\n",
       " 509: 'installing',\n",
       " 510: 'lines',\n",
       " 511: 'base',\n",
       " 512: 'mouse',\n",
       " 513: 'float',\n",
       " 514: 'users',\n",
       " 515: 'basic',\n",
       " 516: 'support',\n",
       " 517: 'struct',\n",
       " 518: 'tree',\n",
       " 519: 'making',\n",
       " 520: 'unit',\n",
       " 521: 'unique',\n",
       " 522: 'scope',\n",
       " 523: 'threads',\n",
       " 524: 'correct',\n",
       " 525: 'hash',\n",
       " 526: 'duplicate',\n",
       " 527: 'catch',\n",
       " 528: 'next',\n",
       " 529: 'handler',\n",
       " 530: 'mean',\n",
       " 531: 'already',\n",
       " 532: 'wont',\n",
       " 533: 'even',\n",
       " 534: 'good',\n",
       " 535: 'edit',\n",
       " 536: 'task',\n",
       " 537: 'admin',\n",
       " 538: 'uitableview',\n",
       " 539: 'removing',\n",
       " 540: 'matrix',\n",
       " 541: 'namespace',\n",
       " 542: 'contents',\n",
       " 543: 'pages',\n",
       " 544: 'valid',\n",
       " 545: 'graph',\n",
       " 546: 'dates',\n",
       " 547: 'lists',\n",
       " 548: 'sdk',\n",
       " 549: 'log',\n",
       " 550: 'encoding',\n",
       " 551: 'const',\n",
       " 552: 'debug',\n",
       " 553: 'objective',\n",
       " 554: 'case',\n",
       " 555: 'calculate',\n",
       " 556: 'changes',\n",
       " 557: 'site',\n",
       " 558: 'programming',\n",
       " 559: 'configuration',\n",
       " 560: 'storing',\n",
       " 561: 'side',\n",
       " 562: 'active',\n",
       " 563: 'sum',\n",
       " 564: 'full',\n",
       " 565: 'limit',\n",
       " 566: 'keep',\n",
       " 567: 'jpa',\n",
       " 568: 'top',\n",
       " 569: 'listbox',\n",
       " 570: 'implementation',\n",
       " 571: 'animation',\n",
       " 572: 'unicode',\n",
       " 573: 'append',\n",
       " 574: 'override',\n",
       " 575: 'printing',\n",
       " 576: 'mongodb',\n",
       " 577: 'twitter',\n",
       " 578: 'allow',\n",
       " 579: 'record',\n",
       " 580: 'winforms',\n",
       " 581: 'part',\n",
       " 582: 'resize',\n",
       " 583: 'utf8',\n",
       " 584: 'core',\n",
       " 585: 'lambda',\n",
       " 586: 'loaded',\n",
       " 587: 'mail',\n",
       " 588: 'ip',\n",
       " 589: 'security',\n",
       " 590: 'controls',\n",
       " 591: 'play',\n",
       " 592: 'times',\n",
       " 593: 'pdo',\n",
       " 594: 'layout',\n",
       " 595: 'selection',\n",
       " 596: 'async',\n",
       " 597: 'fatal',\n",
       " 598: 'game',\n",
       " 599: 'records',\n",
       " 600: 'bean',\n",
       " 601: 'language',\n",
       " 602: 'boolean',\n",
       " 603: 'webdriver',\n",
       " 604: 'cookie',\n",
       " 605: 'draw',\n",
       " 606: 'constant',\n",
       " 607: 'switch',\n",
       " 608: 'outside',\n",
       " 609: 'cakephp',\n",
       " 610: 'domain',\n",
       " 611: 'gui',\n",
       " 612: 'force',\n",
       " 613: 'unknown',\n",
       " 614: 'true',\n",
       " 615: 'inserting',\n",
       " 616: 'assign',\n",
       " 617: 'wait',\n",
       " 618: 'port',\n",
       " 619: 'false',\n",
       " 620: 'mode',\n",
       " 621: '20',\n",
       " 622: 'slow',\n",
       " 623: 'named',\n",
       " 624: 'state',\n",
       " 625: 'focus',\n",
       " 626: 'oracle',\n",
       " 627: 'issues',\n",
       " 628: 'requests',\n",
       " 629: 'mapping',\n",
       " 630: 'netbeans',\n",
       " 631: 'available',\n",
       " 632: 'condition',\n",
       " 633: 'multidimensional',\n",
       " 634: 'enable',\n",
       " 635: 'generated',\n",
       " 636: 'ubuntu',\n",
       " 637: 'assembly',\n",
       " 638: 'jdbc',\n",
       " 639: 'uploading',\n",
       " 640: 'clicked',\n",
       " 641: 'device',\n",
       " 642: 'gem',\n",
       " 643: 'populate',\n",
       " 644: 'yii',\n",
       " 645: 'specified',\n",
       " 646: 'swing',\n",
       " 647: 'soap',\n",
       " 648: 'required',\n",
       " 649: 'special',\n",
       " 650: 'engine',\n",
       " 651: 'initialize',\n",
       " 652: 'checked',\n",
       " 653: 'exceptions',\n",
       " 654: '2010',\n",
       " 655: 'executing',\n",
       " 656: 'know',\n",
       " 657: 'network',\n",
       " 658: 'bad',\n",
       " 659: 'native',\n",
       " 660: 'avoid',\n",
       " 661: 'tkinter',\n",
       " 662: 'javafx',\n",
       " 663: 'try',\n",
       " 664: 'design',\n",
       " 665: '6',\n",
       " 666: 'timeout',\n",
       " 667: 'month',\n",
       " 668: 'export',\n",
       " 669: 'webservice',\n",
       " 670: 'efficient',\n",
       " 671: 'trigger',\n",
       " 672: 'n',\n",
       " 673: 'want',\n",
       " 674: '404',\n",
       " 675: 'heroku',\n",
       " 676: 'move',\n",
       " 677: 'question',\n",
       " 678: 'os',\n",
       " 679: 'component',\n",
       " 680: 'timer',\n",
       " 681: 'dont',\n",
       " 682: 'iterate',\n",
       " 683: 'stack',\n",
       " 684: '10',\n",
       " 685: 'zend',\n",
       " 686: 'words',\n",
       " 687: 'body',\n",
       " 688: 'textarea',\n",
       " 689: 'views',\n",
       " 690: 'implementing',\n",
       " 691: 'compiler',\n",
       " 692: 'clicking',\n",
       " 693: 'linked',\n",
       " 694: 'symbol',\n",
       " 695: 'clear',\n",
       " 696: 'render',\n",
       " 697: 'flask',\n",
       " 698: 'root',\n",
       " 699: 'navigation',\n",
       " 700: 'symfony2',\n",
       " 701: 'second',\n",
       " 702: 'define',\n",
       " 703: 'datagrid',\n",
       " 704: 'pointers',\n",
       " 705: 'fill',\n",
       " 706: 'ssl',\n",
       " 707: 'inheritance',\n",
       " 708: 'private',\n",
       " 709: 'route',\n",
       " 710: 'procedure',\n",
       " 711: 'particular',\n",
       " 712: 'rspec',\n",
       " 713: 'information',\n",
       " 714: 'left',\n",
       " 715: 'scrolling',\n",
       " 716: 'declaration',\n",
       " 717: 'status',\n",
       " 718: 'behind',\n",
       " 719: 'bytes',\n",
       " 720: 'fetch',\n",
       " 721: 'fix',\n",
       " 722: 'services',\n",
       " 723: 'calendar',\n",
       " 724: 'reflection',\n",
       " 725: 'push',\n",
       " 726: 'spaces',\n",
       " 727: 'algorithm',\n",
       " 728: 'xpath',\n",
       " 729: 'alert',\n",
       " 730: 'apply',\n",
       " 731: 'cache',\n",
       " 732: 'integers',\n",
       " 733: 'youtube',\n",
       " 734: 'development',\n",
       " 735: 'calls',\n",
       " 736: 'dependency',\n",
       " 737: 'options',\n",
       " 738: 'maximum',\n",
       " 739: 'hex',\n",
       " 740: 'max',\n",
       " 741: 'https',\n",
       " 742: 'usage',\n",
       " 743: 'progress',\n",
       " 744: 'target',\n",
       " 745: 'previous',\n",
       " 746: 'environment',\n",
       " 747: 'models',\n",
       " 748: 'merge',\n",
       " 749: 'title',\n",
       " 750: 'practice',\n",
       " 751: 'internet',\n",
       " 752: 'comparing',\n",
       " 753: 'changed',\n",
       " 754: 'headers',\n",
       " 755: 'notification',\n",
       " 756: 'driver',\n",
       " 757: 'libraries',\n",
       " 758: 'boost',\n",
       " 759: 'matching',\n",
       " 760: 'apps',\n",
       " 761: 'statements',\n",
       " 762: 'panel',\n",
       " 763: 'symfony',\n",
       " 764: 'shared',\n",
       " 765: 'font',\n",
       " 766: 'opengl',\n",
       " 767: 'tests',\n",
       " 768: 'processing',\n",
       " 769: 'comma',\n",
       " 770: 'public',\n",
       " 771: 'xaml',\n",
       " 772: 'installed',\n",
       " 773: 'datepicker',\n",
       " 774: 'separate',\n",
       " 775: 'standard',\n",
       " 776: 'icon',\n",
       " 777: 'resources',\n",
       " 778: 'directive',\n",
       " 779: 'report',\n",
       " 780: 'abstract',\n",
       " 781: 'links',\n",
       " 782: 'htaccess',\n",
       " 783: 'better',\n",
       " 784: 'hidden',\n",
       " 785: 'container',\n",
       " 786: 'serialize',\n",
       " 787: 'debugging',\n",
       " 788: 'logging',\n",
       " 789: 'would',\n",
       " 790: 'asp',\n",
       " 791: 'resolve',\n",
       " 792: 'autocomplete',\n",
       " 793: 'junit',\n",
       " 794: 'configure',\n",
       " 795: 'ggplot2',\n",
       " 796: 'react',\n",
       " 797: 'see',\n",
       " 798: 'hashmap',\n",
       " 799: 'partial',\n",
       " 800: 'alternative',\n",
       " 801: 'queries',\n",
       " 802: 'selecting',\n",
       " 803: 'visible',\n",
       " 804: 'echo',\n",
       " 805: 'messages',\n",
       " 806: 'returned',\n",
       " 807: 'throws',\n",
       " 808: 'devise',\n",
       " 809: 'something',\n",
       " 810: 'keyboard',\n",
       " 811: 'proxy',\n",
       " 812: 'svg',\n",
       " 813: 'checkboxes',\n",
       " 814: 'declare',\n",
       " 815: 'generating',\n",
       " 816: 'denied',\n",
       " 817: 'take',\n",
       " 818: 'jtable',\n",
       " 819: 'whether',\n",
       " 820: 'coordinates',\n",
       " 821: 'escape',\n",
       " 822: 'operation',\n",
       " 823: 'quotes',\n",
       " 824: 'causes',\n",
       " 825: 'virtual',\n",
       " 826: 'formatting',\n",
       " 827: 'extjs',\n",
       " 828: 'day',\n",
       " 829: 'drag',\n",
       " 830: 'jsf',\n",
       " 831: 'reload',\n",
       " 832: 'drawing',\n",
       " 833: 'setup',\n",
       " 834: 'contain',\n",
       " 835: 'shell',\n",
       " 836: 'product',\n",
       " 837: 'dataset',\n",
       " 838: 'intellij',\n",
       " 839: 'machine',\n",
       " 840: 'delegate',\n",
       " 841: 'webpage',\n",
       " 842: 'entities',\n",
       " 843: 'rendering',\n",
       " 844: 'queue',\n",
       " 845: 'strange',\n",
       " 846: 'phonegap',\n",
       " 847: 'containing',\n",
       " 848: 'cells',\n",
       " 849: 'applications',\n",
       " 850: 'twice',\n",
       " 851: 'dropdownlist',\n",
       " 852: 'connecting',\n",
       " 853: 'inline',\n",
       " 854: 'per',\n",
       " 855: 'execution',\n",
       " 856: 'gcc',\n",
       " 857: 'blank',\n",
       " 858: 'relationship',\n",
       " 859: 'uiview',\n",
       " 860: 'level',\n",
       " 861: 'opening',\n",
       " 862: 'ms',\n",
       " 863: 'conditional',\n",
       " 864: 'razor',\n",
       " 865: 'serialization',\n",
       " 866: 'gives',\n",
       " 867: 'widget',\n",
       " 868: 'initialization',\n",
       " 869: 'relative',\n",
       " 870: 'modify',\n",
       " 871: 'safe',\n",
       " 872: 'etc',\n",
       " 873: 'internal',\n",
       " 874: 'nodes',\n",
       " 875: 'jqgrid',\n",
       " 876: 'definition',\n",
       " 877: 'timestamp',\n",
       " 878: 'capture',\n",
       " 879: 'batch',\n",
       " 880: 'importing',\n",
       " 881: 'building',\n",
       " 882: 'retrieving',\n",
       " 883: 'expressions',\n",
       " 884: 'compiling',\n",
       " 885: 'else',\n",
       " 886: 'allowed',\n",
       " 887: 'added',\n",
       " 888: 'still',\n",
       " 889: 'numeric',\n",
       " 890: 'tcp',\n",
       " 891: 'year',\n",
       " 892: 'host',\n",
       " 893: 'sqlalchemy',\n",
       " 894: 'seconds',\n",
       " 895: 'doctrine',\n",
       " 896: 'boot',\n",
       " 897: 'highcharts',\n",
       " 898: 'cookies',\n",
       " 899: 'selector',\n",
       " 900: 'href',\n",
       " 901: 'nsstring',\n",
       " 902: 'foreign',\n",
       " 903: 'jframe',\n",
       " 904: 'jackson',\n",
       " 905: 'starting',\n",
       " 906: 'config',\n",
       " 907: 'annotation',\n",
       " 908: 'embedded',\n",
       " 909: 'fast',\n",
       " 910: 'reset',\n",
       " 911: 'protocol',\n",
       " 912: 'touch',\n",
       " 913: 'injection',\n",
       " 914: 'section',\n",
       " 915: 'firing',\n",
       " 916: 'tabs',\n",
       " 917: 'jaxb',\n",
       " 918: 'webbrowser',\n",
       " 919: 'ascii',\n",
       " 920: 'points',\n",
       " 921: 'closing',\n",
       " 922: 'overriding',\n",
       " 923: 'transaction',\n",
       " 924: 'postgresql',\n",
       " 925: 'trouble',\n",
       " 926: 'hover',\n",
       " 927: 'sharepoint',\n",
       " 928: 'passed',\n",
       " 929: 'labels',\n",
       " 930: 'cursor',\n",
       " 931: 'able',\n",
       " 932: 'gwt',\n",
       " 933: 'recursive',\n",
       " 934: 'specify',\n",
       " 935: 'sequence',\n",
       " 936: 'localhost',\n",
       " 937: 'explorer',\n",
       " 938: 'urls',\n",
       " 939: 'asynchronous',\n",
       " 940: 'assignment',\n",
       " 941: 'replacing',\n",
       " 942: 'deploy',\n",
       " 943: 'fixed',\n",
       " 944: 'webview',\n",
       " 945: 'giving',\n",
       " 946: 'days',\n",
       " 947: 'templates',\n",
       " 948: 'exit',\n",
       " 949: 'fastest',\n",
       " 950: 'base64',\n",
       " 951: 'anchor',\n",
       " 952: 'restful',\n",
       " 953: 'deleting',\n",
       " 954: 'toggle',\n",
       " 955: 'axis',\n",
       " 956: 'nil',\n",
       " 957: 'go',\n",
       " 958: 'v3',\n",
       " 959: 'enter',\n",
       " 960: 'osx',\n",
       " 961: 'proper',\n",
       " 962: 'vb',\n",
       " 963: '500',\n",
       " 964: 'moving',\n",
       " 965: 'digits',\n",
       " 966: 'nhibernate',\n",
       " 967: 'casting',\n",
       " 968: 'ignore',\n",
       " 969: 'stl',\n",
       " 970: 'faster',\n",
       " 971: 'activerecord',\n",
       " 972: 'permission',\n",
       " 973: 'settings',\n",
       " 974: 'pagination',\n",
       " 975: 'mysqli',\n",
       " 976: 'border',\n",
       " 977: 'lock',\n",
       " 978: 'including',\n",
       " 979: 'loops',\n",
       " 980: 'serial',\n",
       " 981: 'declared',\n",
       " 982: 'incorrect',\n",
       " 983: 'caching',\n",
       " 984: 'activity',\n",
       " 985: 'username',\n",
       " 986: 'real',\n",
       " 987: 's3',\n",
       " 988: 'effect',\n",
       " 989: 'sent',\n",
       " 990: 'comparison',\n",
       " 991: 'complex',\n",
       " 992: 'complete',\n",
       " 993: 'safari',\n",
       " 994: 'invoke',\n",
       " 995: 'across',\n",
       " 996: 'uitableviewcell',\n",
       " 997: 'txt',\n",
       " 998: 'void',\n",
       " 999: 'audio',\n",
       " ...}"
      ]
     },
     "execution_count": 65,
     "metadata": {},
     "output_type": "execute_result"
    }
   ],
   "source": [
    "tfidf_reversed_vocab"
   ]
  },
  {
   "cell_type": "code",
   "execution_count": 68,
   "metadata": {},
   "outputs": [
    {
     "name": "stdout",
     "output_type": "stream",
     "text": [
      "using\n",
      "php\n",
      "java\n",
      "file\n",
      "javascript\n",
      "error\n",
      "get\n",
      "c#\n",
      "python\n",
      "string\n",
      "array\n"
     ]
    }
   ],
   "source": [
    "for i, item in enumerate(tfidf_reversed_vocab):\n",
    "    print(tfidf_reversed_vocab[item])\n",
    "    if i == 10:\n",
    "        break"
   ]
  },
  {
   "cell_type": "code",
   "execution_count": 57,
   "metadata": {},
   "outputs": [
    {
     "data": {
      "text/plain": [
       "1976"
      ]
     },
     "execution_count": 57,
     "metadata": {},
     "output_type": "execute_result"
    }
   ],
   "source": [
    "######### YOUR CODE HERE #############\n",
    "tfidf_vocab['c++']"
   ]
  },
  {
   "cell_type": "code",
   "execution_count": 58,
   "metadata": {},
   "outputs": [
    {
     "data": {
      "text/plain": [
       "1879"
      ]
     },
     "execution_count": 58,
     "metadata": {},
     "output_type": "execute_result"
    }
   ],
   "source": [
    "tfidf_vocab['c#']"
   ]
  },
  {
   "cell_type": "markdown",
   "metadata": {},
   "source": [
    "If you can't find it, we need to understand how did it happen that we lost them? It happened during the built-in tokenization of TfidfVectorizer. Luckily, we can influence on this process. Get back to the function above and use '(\\S+)' regexp as a *token_pattern* in the constructor of the vectorizer.  "
   ]
  },
  {
   "cell_type": "markdown",
   "metadata": {},
   "source": [
    "Now, use this transormation for the data and check again."
   ]
  },
  {
   "cell_type": "code",
   "execution_count": 48,
   "metadata": {},
   "outputs": [
    {
     "data": {
      "text/plain": [
       "'c#'"
      ]
     },
     "execution_count": 48,
     "metadata": {},
     "output_type": "execute_result"
    }
   ],
   "source": [
    "######### YOUR CODE HERE #############\n",
    "tfidf_reversed_vocab[1879]"
   ]
  },
  {
   "cell_type": "markdown",
   "metadata": {},
   "source": [
    "### MultiLabel classifier\n",
    "\n",
    "As we have noticed before, in this task each example can have multiple tags. To deal with such kind of prediction, we need to transform labels in a binary form and the prediction will be a mask of 0s and 1s. For this purpose it is convenient to use [MultiLabelBinarizer](http://scikit-learn.org/stable/modules/generated/sklearn.preprocessing.MultiLabelBinarizer.html) from *sklearn*."
   ]
  },
  {
   "cell_type": "code",
   "execution_count": 34,
   "metadata": {},
   "outputs": [],
   "source": [
    "from sklearn.preprocessing import MultiLabelBinarizer"
   ]
  },
  {
   "cell_type": "code",
   "execution_count": 35,
   "metadata": {},
   "outputs": [],
   "source": [
    "mlb = MultiLabelBinarizer(classes=sorted(tags_counts.keys()))\n",
    "y_train = mlb.fit_transform(y_train)\n",
    "y_val = mlb.fit_transform(y_val)"
   ]
  },
  {
   "cell_type": "markdown",
   "metadata": {},
   "source": [
    "Implement the function *train_classifier* for training a classifier. In this task we suggest to use One-vs-Rest approach, which is implemented in [OneVsRestClassifier](http://scikit-learn.org/stable/modules/generated/sklearn.multiclass.OneVsRestClassifier.html) class. In this approach *k* classifiers (= number of tags) are trained. As a basic classifier, use [LogisticRegression](http://scikit-learn.org/stable/modules/generated/sklearn.linear_model.LogisticRegression.html). It is one of the simplest methods, but often it performs good enough in text classification tasks. It might take some time, because a number of classifiers to train is large."
   ]
  },
  {
   "cell_type": "code",
   "execution_count": 36,
   "metadata": {},
   "outputs": [],
   "source": [
    "from sklearn.multiclass import OneVsRestClassifier\n",
    "from sklearn.linear_model import LogisticRegression, RidgeClassifier"
   ]
  },
  {
   "cell_type": "code",
   "execution_count": 69,
   "metadata": {},
   "outputs": [],
   "source": [
    "def train_classifier(X_train, y_train):\n",
    "    \"\"\"\n",
    "      X_train, y_train — training data\n",
    "      \n",
    "      return: trained classifier\n",
    "    \"\"\"\n",
    "    \n",
    "    # Create and fit LogisticRegression wraped into OneVsRestClassifier.\n",
    "\n",
    "    ######################################\n",
    "    ######### YOUR CODE HERE #############\n",
    "    ######################################\n",
    "    clf = LogisticRegression(solver='liblinear')\n",
    "    clf = OneVsRestClassifier(clf)\n",
    "    classifier = clf.fit(X_train, y_train)\n",
    "    return classifier"
   ]
  },
  {
   "cell_type": "markdown",
   "metadata": {},
   "source": [
    "Train the classifiers for different data transformations: *bag-of-words* and *tf-idf*."
   ]
  },
  {
   "cell_type": "code",
   "execution_count": 70,
   "metadata": {},
   "outputs": [],
   "source": [
    "classifier_mybag = train_classifier(X_train_mybag, y_train)\n",
    "classifier_tfidf = train_classifier(X_train_tfidf, y_train)"
   ]
  },
  {
   "cell_type": "markdown",
   "metadata": {},
   "source": [
    "Now you can create predictions for the data. You will need two types of predictions: labels and scores."
   ]
  },
  {
   "cell_type": "code",
   "execution_count": 71,
   "metadata": {},
   "outputs": [],
   "source": [
    "y_val_predicted_labels_mybag = classifier_mybag.predict(X_val_mybag)\n",
    "y_val_predicted_scores_mybag = classifier_mybag.decision_function(X_val_mybag)\n",
    "\n",
    "y_val_predicted_labels_tfidf = classifier_tfidf.predict(X_val_tfidf)\n",
    "y_val_predicted_scores_tfidf = classifier_tfidf.decision_function(X_val_tfidf)"
   ]
  },
  {
   "cell_type": "markdown",
   "metadata": {},
   "source": [
    "Now take a look at how classifier, which uses TF-IDF, works for a few examples:"
   ]
  },
  {
   "cell_type": "code",
   "execution_count": 72,
   "metadata": {},
   "outputs": [
    {
     "name": "stdout",
     "output_type": "stream",
     "text": [
      "Title:\todbc_exec always fail\n",
      "True labels:\tphp,sql\n",
      "Predicted labels:\t\n",
      "\n",
      "\n",
      "Title:\taccess base classes variable within child class\n",
      "True labels:\tjavascript\n",
      "Predicted labels:\t\n",
      "\n",
      "\n",
      "Title:\tcontenttype application json required rails\n",
      "True labels:\truby,ruby-on-rails\n",
      "Predicted labels:\truby-on-rails\n",
      "\n",
      "\n"
     ]
    }
   ],
   "source": [
    "y_val_pred_inversed = mlb.inverse_transform(y_val_predicted_labels_tfidf)\n",
    "y_val_inversed = mlb.inverse_transform(y_val)\n",
    "for i in range(3):\n",
    "    print('Title:\\t{}\\nTrue labels:\\t{}\\nPredicted labels:\\t{}\\n\\n'.format(\n",
    "        X_val[i],\n",
    "        ','.join(y_val_inversed[i]),\n",
    "        ','.join(y_val_pred_inversed[i])\n",
    "    ))"
   ]
  },
  {
   "cell_type": "markdown",
   "metadata": {},
   "source": [
    "Now, we would need to compare the results of different predictions, e.g. to see whether TF-IDF transformation helps or to try different regularization techniques in logistic regression. For all these experiments, we need to setup evaluation procedure. "
   ]
  },
  {
   "cell_type": "markdown",
   "metadata": {},
   "source": [
    "### Evaluation\n",
    "\n",
    "To evaluate the results we will use several classification metrics:\n",
    " - [Accuracy](http://scikit-learn.org/stable/modules/generated/sklearn.metrics.accuracy_score.html)\n",
    " - [F1-score](http://scikit-learn.org/stable/modules/generated/sklearn.metrics.f1_score.html)\n",
    " - [Area under ROC-curve](http://scikit-learn.org/stable/modules/generated/sklearn.metrics.roc_auc_score.html)\n",
    " - [Area under precision-recall curve](http://scikit-learn.org/stable/modules/generated/sklearn.metrics.average_precision_score.html#sklearn.metrics.average_precision_score) \n",
    " \n",
    "Make sure you are familiar with all of them. How would you expect the things work for the multi-label scenario? Read about micro/macro/weighted averaging following the sklearn links provided above."
   ]
  },
  {
   "cell_type": "code",
   "execution_count": 73,
   "metadata": {},
   "outputs": [],
   "source": [
    "from sklearn.metrics import accuracy_score\n",
    "from sklearn.metrics import f1_score\n",
    "from sklearn.metrics import roc_auc_score \n",
    "from sklearn.metrics import average_precision_score\n",
    "from sklearn.metrics import recall_score"
   ]
  },
  {
   "cell_type": "markdown",
   "metadata": {},
   "source": [
    "Implement the function *print_evaluation_scores* which calculates and prints to stdout:\n",
    " - *accuracy*\n",
    " - *F1-score macro/micro/weighted*\n",
    " - *Precision macro/micro/weighted*"
   ]
  },
  {
   "cell_type": "code",
   "execution_count": 87,
   "metadata": {},
   "outputs": [],
   "source": [
    "def print_evaluation_scores(y_val, predicted):\n",
    "    \n",
    "    ######################################\n",
    "    ######### YOUR CODE HERE #############\n",
    "    ######################################\n",
    "    print(accuracy_score(y_val, predicted))\n",
    "    print(f1_score(y_val, predicted, average='macro'))\n",
    "    print(f1_score(y_val, predicted, average='weighted'))\n",
    "    print(f1_score(y_val, predicted, average='micro'))\n",
    "    print(average_precision_score(y_val, predicted, average='macro'))\n",
    "    print(average_precision_score(y_val, predicted, average='micro'))\n",
    "    print(average_precision_score(y_val, predicted, average='weighted'))"
   ]
  },
  {
   "cell_type": "code",
   "execution_count": 88,
   "metadata": {},
   "outputs": [
    {
     "name": "stdout",
     "output_type": "stream",
     "text": [
      "Bag-of-words\n",
      "0.358\n",
      "0.5047325582597497\n",
      "0.6486950381244107\n",
      "0.6710820449370445\n",
      "0.34458812912520126\n",
      "0.4812849070834009\n",
      "0.5108520393587743\n",
      "Tfidf\n",
      "0.30806666666666666\n",
      "0.448303470388031\n",
      "0.5922400041007816\n",
      "0.6203147227153931\n",
      "0.3018661436855019\n",
      "0.43036500031421415\n",
      "0.46135098853779943\n"
     ]
    }
   ],
   "source": [
    "print('Bag-of-words')\n",
    "print_evaluation_scores(y_val, y_val_predicted_labels_mybag)\n",
    "print('Tfidf')\n",
    "print_evaluation_scores(y_val, y_val_predicted_labels_tfidf)"
   ]
  },
  {
   "cell_type": "markdown",
   "metadata": {},
   "source": [
    "You might also want to plot some generalization of the [ROC curve](http://scikit-learn.org/stable/modules/model_evaluation.html#receiver-operating-characteristic-roc) for the case of multi-label classification. Provided function *roc_auc* can make it for you. The input parameters of this function are:\n",
    " - true labels\n",
    " - decision functions scores\n",
    " - number of classes"
   ]
  },
  {
   "cell_type": "code",
   "execution_count": 89,
   "metadata": {},
   "outputs": [],
   "source": [
    "from metrics import roc_auc\n",
    "%matplotlib inline"
   ]
  },
  {
   "cell_type": "code",
   "execution_count": 90,
   "metadata": {},
   "outputs": [
    {
     "data": {
      "image/png": "[encoded data removed]",
      "text/plain": [
       "<Figure size 432x288 with 1 Axes>"
      ]
     },
     "metadata": {
      "needs_background": "light"
     },
     "output_type": "display_data"
    }
   ],
   "source": [
    "n_classes = len(tags_counts)\n",
    "roc_auc(y_val, y_val_predicted_scores_mybag, n_classes)"
   ]
  },
  {
   "cell_type": "code",
   "execution_count": 91,
   "metadata": {},
   "outputs": [
    {
     "data": {
      "image/png": "[encoded data removed]",
      "text/plain": [
       "<Figure size 432x288 with 1 Axes>"
      ]
     },
     "metadata": {
      "needs_background": "light"
     },
     "output_type": "display_data"
    }
   ],
   "source": [
    "n_classes = len(tags_counts)\n",
    "roc_auc(y_val, y_val_predicted_scores_tfidf, n_classes)"
   ]
  },
  {
   "cell_type": "markdown",
   "metadata": {},
   "source": [
    "**Task 4 (MultilabelClassification).** Once we have the evaluation set up, we suggest that you experiment a bit with training your classifiers. We will use *F1-score weighted* as an evaluation metric. Our recommendation:\n",
    "- compare the quality of the bag-of-words and TF-IDF approaches and chose one of them.\n",
    "- for the chosen one, try *L1* and *L2*-regularization techniques in Logistic Regression with different coefficients (e.g. C equal to 0.1, 1, 10, 100).\n",
    "\n",
    "You also could try other improvements of the preprocessing / model, if you want. "
   ]
  },
  {
   "cell_type": "code",
   "execution_count": null,
   "metadata": {
    "collapsed": true
   },
   "outputs": [],
   "source": [
    "######################################\n",
    "######### YOUR CODE HERE #############\n",
    "######################################"
   ]
  },
  {
   "cell_type": "markdown",
   "metadata": {},
   "source": [
    "When you are happy with the quality, create predictions for *test* set, which you will submit to Coursera."
   ]
  },
  {
   "cell_type": "code",
   "execution_count": null,
   "metadata": {
    "collapsed": true
   },
   "outputs": [],
   "source": [
    "test_predictions = ######### YOUR CODE HERE #############\n",
    "test_pred_inversed = mlb.inverse_transform(test_predictions)\n",
    "\n",
    "test_predictions_for_submission = '\\n'.join('%i\\t%s' % (i, ','.join(row)) for i, row in enumerate(test_pred_inversed))\n",
    "grader.submit_tag('MultilabelClassification', test_predictions_for_submission)"
   ]
  },
  {
   "cell_type": "markdown",
   "metadata": {},
   "source": [
    "### Analysis of the most important features"
   ]
  },
  {
   "cell_type": "markdown",
   "metadata": {},
   "source": [
    "Finally, it is usually a good idea to look at the features (words or n-grams) that are used with the largest weigths in your logistic regression model."
   ]
  },
  {
   "cell_type": "markdown",
   "metadata": {},
   "source": [
    "Implement the function *print_words_for_tag* to find them. Get back to sklearn documentation on [OneVsRestClassifier](http://scikit-learn.org/stable/modules/generated/sklearn.multiclass.OneVsRestClassifier.html) and [LogisticRegression](http://scikit-learn.org/stable/modules/generated/sklearn.linear_model.LogisticRegression.html) if needed."
   ]
  },
  {
   "cell_type": "code",
   "execution_count": null,
   "metadata": {
    "collapsed": true
   },
   "outputs": [],
   "source": [
    "def print_words_for_tag(classifier, tag, tags_classes, index_to_words, all_words):\n",
    "    \"\"\"\n",
    "        classifier: trained classifier\n",
    "        tag: particular tag\n",
    "        tags_classes: a list of classes names from MultiLabelBinarizer\n",
    "        index_to_words: index_to_words transformation\n",
    "        all_words: all words in the dictionary\n",
    "        \n",
    "        return nothing, just print top 5 positive and top 5 negative words for current tag\n",
    "    \"\"\"\n",
    "    print('Tag:\\t{}'.format(tag))\n",
    "    \n",
    "    # Extract an estimator from the classifier for the given tag.\n",
    "    # Extract feature coefficients from the estimator. \n",
    "    \n",
    "    ######################################\n",
    "    ######### YOUR CODE HERE #############\n",
    "    ######################################\n",
    "    \n",
    "    top_positive_words = # top-5 words sorted by the coefficiens.\n",
    "    top_negative_words = # bottom-5 words  sorted by the coefficients.\n",
    "    print('Top positive words:\\t{}'.format(', '.join(top_positive_words)))\n",
    "    print('Top negative words:\\t{}\\n'.format(', '.join(top_negative_words)))"
   ]
  },
  {
   "cell_type": "code",
   "execution_count": null,
   "metadata": {
    "collapsed": true
   },
   "outputs": [],
   "source": [
    "print_words_for_tag(classifier_tfidf, 'c', mlb.classes, tfidf_reversed_vocab, ALL_WORDS)\n",
    "print_words_for_tag(classifier_tfidf, 'c++', mlb.classes, tfidf_reversed_vocab, ALL_WORDS)\n",
    "print_words_for_tag(classifier_tfidf, 'linux', mlb.classes, tfidf_reversed_vocab, ALL_WORDS)"
   ]
  },
  {
   "cell_type": "markdown",
   "metadata": {},
   "source": [
    "### Authorization & Submission\n",
    "To submit assignment parts to Cousera platform, please, enter your e-mail and token into variables below. You can generate token on this programming assignment page. <b>Note:</b> Token expires 30 minutes after generation."
   ]
  },
  {
   "cell_type": "code",
   "execution_count": null,
   "metadata": {
    "collapsed": true
   },
   "outputs": [],
   "source": [
    "grader.status()"
   ]
  },
  {
   "cell_type": "code",
   "execution_count": null,
   "metadata": {
    "collapsed": true
   },
   "outputs": [],
   "source": [
    "STUDENT_EMAIL = # EMAIL \n",
    "STUDENT_TOKEN = # TOKEN \n",
    "grader.status()"
   ]
  },
  {
   "cell_type": "markdown",
   "metadata": {},
   "source": [
    "If you want to submit these answers, run cell below"
   ]
  },
  {
   "cell_type": "code",
   "execution_count": null,
   "metadata": {
    "collapsed": true
   },
   "outputs": [],
   "source": [
    "grader.submit(STUDENT_EMAIL, STUDENT_TOKEN)"
   ]
  }
 ],
 "metadata": {
  "kernelspec": {
   "display_name": "Python 3",
   "language": "python",
   "name": "python3"
  },
  "language_info": {
   "codemirror_mode": {
    "name": "ipython",
    "version": 3
   },
   "file_extension": ".py",
   "mimetype": "text/x-python",
   "name": "python",
   "nbconvert_exporter": "python",
   "pygments_lexer": "ipython3",
   "version": "3.6.7"
  }
 },
 "nbformat": 4,
 "nbformat_minor": 2
}
